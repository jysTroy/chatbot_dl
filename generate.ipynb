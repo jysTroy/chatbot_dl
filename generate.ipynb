{
 "cells": [
  {
   "cell_type": "code",
   "execution_count": 30,
   "id": "ed58b9b1",
   "metadata": {},
   "outputs": [
    {
     "name": "stderr",
     "output_type": "stream",
     "text": [
      "Some weights of the PyTorch model were not used when initializing the TF 2.0 model TFGPT2LMHeadModel: ['transformer.h.8.attn.masked_bias', 'transformer.h.0.attn.masked_bias', 'transformer.h.2.attn.masked_bias', 'lm_head.weight', 'transformer.h.10.attn.masked_bias', 'transformer.h.7.attn.masked_bias', 'transformer.h.3.attn.masked_bias', 'transformer.h.6.attn.masked_bias', 'transformer.h.4.attn.masked_bias', 'transformer.h.5.attn.masked_bias', 'transformer.h.9.attn.masked_bias', 'transformer.h.11.attn.masked_bias', 'transformer.h.1.attn.masked_bias']\n",
      "- This IS expected if you are initializing TFGPT2LMHeadModel from a PyTorch model trained on another task or with another architecture (e.g. initializing a TFBertForSequenceClassification model from a BertForPreTraining model).\n",
      "- This IS NOT expected if you are initializing TFGPT2LMHeadModel from a PyTorch model that you expect to be exactly identical (e.g. initializing a TFBertForSequenceClassification model from a BertForSequenceClassification model).\n",
      "All the weights of TFGPT2LMHeadModel were initialized from the PyTorch model.\n",
      "If your task is similar to the task the model of the checkpoint was trained on, you can already use TFGPT2LMHeadModel for predictions without further training.\n"
     ]
    }
   ],
   "source": [
    "import tensorflow as tf\n",
    "from transformers import AutoTokenizer\n",
    "from transformers import TFGPT2LMHeadModel\n",
    "\n",
    "tokenizer = AutoTokenizer.from_pretrained('skt/kogpt2-base-v2', bos_token='<s>', eos_token='</s>', pad_token='<pad>')\n",
    "model = TFGPT2LMHeadModel.from_pretrained('skt/kogpt2-base-v2', from_pt=True)"
   ]
  },
  {
   "cell_type": "code",
   "execution_count": 31,
   "id": "5f9c9e1f",
   "metadata": {},
   "outputs": [],
   "source": [
    "# model.load_weights(\"chatbot.weights.h5\")"
   ]
  },
  {
   "cell_type": "code",
   "execution_count": 36,
   "id": "35d60cc1",
   "metadata": {},
   "outputs": [],
   "source": [
    "def chatbot(user_text):\n",
    "    input_ids = tokenizer.encode(f\"<s><usr>{user_text}<sys>\")\n",
    "    input_ids = tf.convert_to_tensor([input_ids])\n",
    "    outputs = model.generate(input_ids, max_length=100, do_sample=True, top_k=100, top_p=0.9)\n",
    "    sentence = tokenizer.decode(outputs[0].numpy().tolist())\n",
    "    return sentence.split('<sys>')[1]"
   ]
  },
  {
   "cell_type": "code",
   "execution_count": 38,
   "id": "f431f090",
   "metadata": {},
   "outputs": [
    {
     "data": {
      "text/plain": [
       "'을 추천 ᄀ勿施입니다.\\nᄀ勿施입니다.\\nᄀ勿施입니다.\\nᄀ勿施입니다.\\nᄃ勿施입니다.\\nᄃ勿施입니다.\\nᄃ勿施입니다.\\nᄃ勿施입니다.\\nᄃ勿施입니다.\\nᄃ勿施입니다.\\nᄀ勿施입니다.\\nᄀ勿施입니다.\\nᄀ勿施입니다.\\nᄀ勿施입니다.\\nᄀ勿施입니다.\\nᄀ勿施입니다.\\nᄀ勿施입니다.\\nᄀ勿施입니다.\\nᄀ勿施입니다.\\nᄀ勿施입니다.\\nᄀ勿施입니다.\\nᄀ'"
      ]
     },
     "execution_count": 38,
     "metadata": {},
     "output_type": "execute_result"
    }
   ],
   "source": [
    "chatbot(\"내일 점심 뭐먹을까 추천 ㄱ\")"
   ]
  },
  {
   "cell_type": "code",
   "execution_count": null,
   "id": "33a4e3c1",
   "metadata": {},
   "outputs": [],
   "source": []
  }
 ],
 "metadata": {
  "kernelspec": {
   "display_name": ".venv",
   "language": "python",
   "name": "python3"
  },
  "language_info": {
   "codemirror_mode": {
    "name": "ipython",
    "version": 3
   },
   "file_extension": ".py",
   "mimetype": "text/x-python",
   "name": "python",
   "nbconvert_exporter": "python",
   "pygments_lexer": "ipython3",
   "version": "3.12.10"
  }
 },
 "nbformat": 4,
 "nbformat_minor": 5
}
